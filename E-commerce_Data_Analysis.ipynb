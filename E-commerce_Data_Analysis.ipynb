{
 "cells": [
  {
   "cell_type": "code",
   "execution_count": null,
   "id": "a41e156a-46ed-4744-bd9f-5477b191cf22",
   "metadata": {},
   "outputs": [],
   "source": [
    "import pandas as pd\n",
    "import numpy as np\n",
    "import plotly.express as px\n",
    "import plotly.graph_objects as go\n",
    "import plotly.io as pio\n",
    "import plotly.colors as colors \n",
    "pio.templates.default = \"plotly_white\""
   ]
  },
  {
   "cell_type": "code",
   "execution_count": null,
   "id": "4d7b5f7b-9591-4774-a581-cee24e59935d",
   "metadata": {},
   "outputs": [],
   "source": [
    "data = pd.read_csv(\"Super_StoreData.csv\" , encoding = 'latin-1')"
   ]
  },
  {
   "cell_type": "code",
   "execution_count": null,
   "id": "abff5ce4-46e1-4c83-ba48-5e886f22539a",
   "metadata": {},
   "outputs": [],
   "source": [
    "data"
   ]
  },
  {
   "cell_type": "code",
   "execution_count": null,
   "id": "e3bc3f8b-cb18-4f22-9c1a-73253da19501",
   "metadata": {},
   "outputs": [],
   "source": [
    "data.head()"
   ]
  },
  {
   "cell_type": "code",
   "execution_count": null,
   "id": "1abfd011-8229-478d-a7c8-c556aa2f27d1",
   "metadata": {},
   "outputs": [],
   "source": [
    "data.describe()"
   ]
  },
  {
   "cell_type": "code",
   "execution_count": null,
   "id": "c2c3e64d-4e73-42f7-a7ff-b2ec50560e44",
   "metadata": {},
   "outputs": [],
   "source": [
    "data.info()"
   ]
  },
  {
   "cell_type": "markdown",
   "id": "200b6c68-e791-402a-89ba-b7af309994bf",
   "metadata": {},
   "source": [
    "  # Converting Column Datatype"
   ]
  },
  {
   "cell_type": "code",
   "execution_count": null,
   "id": "d330275a-5054-40d5-872c-9a92447844d0",
   "metadata": {},
   "outputs": [],
   "source": [
    "data['Order Date'] = pd.to_datetime(data['Order Date'])\n",
    "data['Ship Date'] = pd.to_datetime(data['Ship Date'])                                   "
   ]
  },
  {
   "cell_type": "code",
   "execution_count": null,
   "id": "fd70849c-17b6-4377-995b-f11da66732ff",
   "metadata": {},
   "outputs": [],
   "source": [
    "data.info()\n"
   ]
  },
  {
   "cell_type": "code",
   "execution_count": null,
   "id": "64630a91-d3d6-4bd7-8c9b-e17759f0090d",
   "metadata": {},
   "outputs": [],
   "source": [
    "data.head()"
   ]
  },
  {
   "cell_type": "code",
   "execution_count": null,
   "id": "131072cd-5d4c-42f9-99b6-717bc94c7876",
   "metadata": {},
   "outputs": [],
   "source": [
    "data['Order Month'] = data['Order Date'].dt.month\n",
    "data['Order Year'] = data['Order Date'].dt.year\n",
    "data['Order Day of Week'] = data['Order Date'].dt.dayofweek"
   ]
  },
  {
   "cell_type": "code",
   "execution_count": null,
   "id": "5964aeaa-dd31-46e5-9ef3-c924becc1d5c",
   "metadata": {},
   "outputs": [],
   "source": [
    "data.head()"
   ]
  },
  {
   "cell_type": "markdown",
   "id": "653fbe9c-8fcc-4c34-b889-608a7d206805",
   "metadata": {},
   "source": [
    "# Monthly Sales Analysis :"
   ]
  },
  {
   "cell_type": "code",
   "execution_count": null,
   "id": "e26d5319-1051-4253-a20b-c9130df67b66",
   "metadata": {},
   "outputs": [],
   "source": [
    "sales_by_month = data.groupby('Order Month')['Sales'].sum().reset_index()"
   ]
  },
  {
   "cell_type": "code",
   "execution_count": null,
   "id": "3dae06f3-2ade-4cbd-94fa-9b6e85369ae0",
   "metadata": {},
   "outputs": [],
   "source": [
    "sales_by_month"
   ]
  },
  {
   "cell_type": "code",
   "execution_count": null,
   "id": "9332d130-f00e-494f-b4fa-3d283d252fbc",
   "metadata": {},
   "outputs": [],
   "source": [
    "fig = px.line(sales_by_month , \n",
    "              x = 'Order Month',\n",
    "              y = 'Sales',\n",
    "              title = \"Monthly Sales Analysis\")\n",
    "fig.show()"
   ]
  },
  {
   "cell_type": "markdown",
   "id": "d48eeaba-dc68-4c28-97e3-75f3c42a5a18",
   "metadata": {},
   "source": [
    " # Sales By Category :"
   ]
  },
  {
   "cell_type": "code",
   "execution_count": null,
   "id": "627068f7-2bb9-4f0a-a7fa-82db990babc0",
   "metadata": {},
   "outputs": [],
   "source": [
    "sales_by_category = data.groupby('Category')['Sales'].sum().reset_index()"
   ]
  },
  {
   "cell_type": "code",
   "execution_count": null,
   "id": "9aeabff0-4370-4643-b04b-43825dc7aae1",
   "metadata": {},
   "outputs": [],
   "source": [
    "sales_by_category"
   ]
  },
  {
   "cell_type": "code",
   "execution_count": null,
   "id": "bb89aa5a-db90-4d42-91ef-1c4d8b3f7ee8",
   "metadata": {},
   "outputs": [],
   "source": [
    "fig = px.pie(sales_by_category , \n",
    "             values = 'Sales',\n",
    "             names = 'Category',\n",
    "             hole =  0.3 , \n",
    "             color_discrete_sequence = px.colors.qualitative.Pastel)\n",
    "fig.update_traces(textposition= 'inside' , textinfo= \"percent+label\")\n",
    "fig.update_layout(title_text = 'Sales Analysis By Category', title_font = dict(size = 24))"
   ]
  },
  {
   "cell_type": "markdown",
   "id": "ab6c036c-95e3-4307-bd5e-0fc9a43d9585",
   "metadata": {},
   "source": [
    "# Sales Analysis By Subcategory : "
   ]
  },
  {
   "cell_type": "code",
   "execution_count": null,
   "id": "92f34797-334e-4fb8-95a5-83b8e476a497",
   "metadata": {},
   "outputs": [],
   "source": [
    "data.head()"
   ]
  },
  {
   "cell_type": "code",
   "execution_count": null,
   "id": "e1dbe264-7bfc-42c6-917a-6747bd2b0819",
   "metadata": {},
   "outputs": [],
   "source": [
    "sales_by_subcategory = data.groupby('Sub-Category')['Sales'].sum().reset_index()"
   ]
  },
  {
   "cell_type": "code",
   "execution_count": null,
   "id": "22f596d0-9c74-47c5-a802-1f44d69bd861",
   "metadata": {},
   "outputs": [],
   "source": [
    "sales_by_subcategory"
   ]
  },
  {
   "cell_type": "code",
   "execution_count": null,
   "id": "3e570d11-2665-48b6-a31b-1c3f00cd033d",
   "metadata": {},
   "outputs": [],
   "source": [
    "fig = px.bar(sales_by_subcategory , x = 'Sub-Category',\n",
    "             y = 'Sales'\n",
    "             ,title = \"Sales Analysis By Subcategory \")\n",
    "fig.show()"
   ]
  },
  {
   "cell_type": "markdown",
   "id": "46c5a42d-410e-4221-8fde-b399cc7e78d7",
   "metadata": {},
   "source": [
    "# Monthly Profit Analysis : "
   ]
  },
  {
   "cell_type": "code",
   "execution_count": null,
   "id": "d76b1492-c1fd-414c-a510-902d5141dfc3",
   "metadata": {},
   "outputs": [],
   "source": [
    "profit_by_month = data.groupby('Order Month')['Profit'].sum().reset_index()"
   ]
  },
  {
   "cell_type": "code",
   "execution_count": null,
   "id": "ce510619-6f10-48db-8509-f8c073686152",
   "metadata": {},
   "outputs": [],
   "source": [
    "profit_by_month"
   ]
  },
  {
   "cell_type": "code",
   "execution_count": null,
   "id": "bc447356-167d-439e-a2f0-6277db52777d",
   "metadata": {},
   "outputs": [],
   "source": [
    "fig = px.line(profit_by_month, x = 'Order Month',\n",
    "              y = 'Profit',\n",
    "              title = \"Profit By Month \")\n",
    "fig.show()"
   ]
  },
  {
   "cell_type": "markdown",
   "id": "4934a7a8-6b67-45b3-b0bc-6d976556c34d",
   "metadata": {},
   "source": [
    "# Profit By Category :"
   ]
  },
  {
   "cell_type": "code",
   "execution_count": null,
   "id": "68743b95-16b7-4d94-8c21-58bb145945d4",
   "metadata": {},
   "outputs": [],
   "source": [
    "profit_by_category = data.groupby('Category')['Profit'].sum().reset_index()"
   ]
  },
  {
   "cell_type": "code",
   "execution_count": null,
   "id": "1f291afc-3282-469e-a377-81caef918ae5",
   "metadata": {},
   "outputs": [],
   "source": [
    "profit_by_category "
   ]
  },
  {
   "cell_type": "code",
   "execution_count": null,
   "id": "c97fe266-b39b-4053-b636-baf3cff94b23",
   "metadata": {},
   "outputs": [],
   "source": [
    "fig = px.pie(profit_by_category , values = 'Profit', names = 'Category',\n",
    "             hole = 0.3,\n",
    "             color_discrete_sequence = px.colors.qualitative.Pastel)\n",
    "fig.update_traces(textposition = 'inside',textinfo = 'percent+label')\n",
    "fig.update_layout(title = \" Profit Analysis By Category \", title_font = dict(size = 24))\n",
    "             "
   ]
  },
  {
   "cell_type": "markdown",
   "id": "759fcfe0-ad45-4c5e-a014-764396cfbf4e",
   "metadata": {},
   "source": [
    "# Profit By Sub-Category :"
   ]
  },
  {
   "cell_type": "code",
   "execution_count": null,
   "id": "b8ea6443-35d7-4383-8587-1626f3825c55",
   "metadata": {},
   "outputs": [],
   "source": [
    "profit_by_subcategory = data.groupby('Sub-Category')['Profit'].sum().reset_index()\n",
    "profit_by_subcategory"
   ]
  },
  {
   "cell_type": "code",
   "execution_count": null,
   "id": "f0d66174-4617-42e5-a349-2bc8a6cbad69",
   "metadata": {},
   "outputs": [],
   "source": [
    "fig = px.pie(profit_by_subcategory , values = 'Profit', names = 'Sub-Category',\n",
    "             hole = 0.3,\n",
    "             color_discrete_sequence = px.colors.qualitative.Pastel)\n",
    "fig.update_traces(textposition = 'inside',textinfo = 'percent+label')\n",
    "fig.update_layout(title = \" Profit Analysis By Sub-Category \", title_font = dict(size = 24))\n",
    "             "
   ]
  },
  {
   "cell_type": "markdown",
   "id": "031a2f00-ac20-4196-9453-59033ea8eabc",
   "metadata": {},
   "source": [
    "# Sales And Profit - Customer Segment"
   ]
  },
  {
   "cell_type": "code",
   "execution_count": null,
   "id": "875b8f20-c02d-45b7-b4bb-14399774e64b",
   "metadata": {},
   "outputs": [],
   "source": [
    "sales_profit_by_segment = data.groupby('Segment').agg({'Sales':'sum','Profit':'sum'}).reset_index()"
   ]
  },
  {
   "cell_type": "code",
   "execution_count": null,
   "id": "74e09324-49f7-4cb3-8fe8-4f23bd7145d9",
   "metadata": {},
   "outputs": [],
   "source": [
    "sales_profit_by_segment"
   ]
  },
  {
   "cell_type": "code",
   "execution_count": null,
   "id": "5fa4a9cc-be93-424e-ab14-f599aacc0c56",
   "metadata": {},
   "outputs": [],
   "source": [
    "color_palette = colors.qualitative.Pastel\n",
    "fig = go.Figure()\n",
    "fig.add_trace(go.Bar(x = sales_profit_by_segment['Segment'], \n",
    "                     y = sales_profit_by_segment['Sales'],\n",
    "                     name = 'Sales',\n",
    "                     marker_color = color_palette[0]))\n",
    "fig.add_trace(go.Bar(x =sales_profit_by_segment['Segment'] , y = sales_profit_by_segment['Profit'],\n",
    "                     name = 'Sales', marker_color = color_palette[1]))\n",
    "fig.update_layout(title = \"Sales and Profit Analysis By Customer Segment\",\n",
    "                  xaxis_title = 'Custoumer Segment' , yaxis_title = 'Amount')"
   ]
  },
  {
   "cell_type": "markdown",
   "id": "1e02c70f-0313-460d-9bb9-5227e07f0038",
   "metadata": {},
   "source": [
    "# Sales To Profit Ratio :"
   ]
  },
  {
   "cell_type": "code",
   "execution_count": null,
   "id": "e63f1aef-e7c1-4b35-a0b3-9fa8174f3280",
   "metadata": {},
   "outputs": [],
   "source": [
    "sales_profit_by_segment = data.groupby('Segment').agg({'Sales':'sum','Profit':'sum'}).reset_index()\n",
    "sales_profit_by_segment['sales_to_profit_ratio']= sales_profit_by_segment['Sales']/ sales_profit_by_segment['Profit']\n",
    "print(sales_profit_by_segment[['Segment','sales_to_profit_ratio']])"
   ]
  },
  {
   "cell_type": "code",
   "execution_count": null,
   "id": "eb331278-8edb-4ff6-9cf7-bb4f9e4716f0",
   "metadata": {},
   "outputs": [],
   "source": [
    "fig = px.bar(sales_profit_by_segment,\n",
    "             x = 'Segment',\n",
    "             y = 'sales_to_profit_ratio',\n",
    "             title = \" Sales To Profit Ratio\")\n",
    "fig.show()"
   ]
  },
  {
   "cell_type": "code",
   "execution_count": null,
   "id": "5483e26a-0c48-488e-b1e0-fc0195478f98",
   "metadata": {},
   "outputs": [],
   "source": []
  }
 ],
 "metadata": {
  "kernelspec": {
   "display_name": "Python 3 (ipykernel)",
   "language": "python",
   "name": "python3"
  },
  "language_info": {
   "codemirror_mode": {
    "name": "ipython",
    "version": 3
   },
   "file_extension": ".py",
   "mimetype": "text/x-python",
   "name": "python",
   "nbconvert_exporter": "python",
   "pygments_lexer": "ipython3",
   "version": "3.13.2"
  }
 },
 "nbformat": 4,
 "nbformat_minor": 5
}
